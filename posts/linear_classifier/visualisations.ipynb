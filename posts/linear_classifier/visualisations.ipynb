{
 "cells": [
  {
   "cell_type": "code",
   "execution_count": 41,
   "metadata": {
    "collapsed": false
   },
   "outputs": [
    {
     "data": {
      "image/png": "[encoded data removed]",
      "text/plain": [
       "<matplotlib.figure.Figure at 0x11080e9e8>"
      ]
     },
     "metadata": {},
     "output_type": "display_data"
    }
   ],
   "source": [
    "import matplotlib\n",
    "import matplotlib.pyplot as plt\n",
    "%matplotlib inline\n",
    "import numpy as np\n",
    "IQ = [88, 120, 111, 83, 94, 106, 108, 92, 115, 120]\n",
    "GPA = [3.0, 2.9, 4.0, 3.4, 3.8, 4.0, 2.5, 2.8, 3.0, 4.0]\n",
    "Hired = [0, 1, 1, 0, 1, 1, 0, 0, 1, 1]\n",
    "colors = [\"red\", \"blue\"]\n",
    "\n",
    "#plt.figure(figsize=(200,400))\n",
    "plt.scatter(IQ, GPA, c=Hired, cmap=matplotlib.colors.ListedColormap(colors))\n",
    "\n",
    "red, = plt.plot([], \"ro\", markersize=5)\n",
    "blue, = plt.plot([], \"bo\", markersize=5)\n",
    "\n",
    "plt.legend([red, blue], [\"Not Hired\", \"Hired\"])\n",
    "\n",
    "plt.style.use('bmh')\n",
    "plt.axis([60,150,2.0,4.5])\n",
    "plt.xlabel(\"IQ\")\n",
    "plt.ylabel(\"GPA\")\n",
    "plt.tight_layout()\n",
    "plt.savefig(\"scatter.png\")\n",
    "plt.show()"
   ]
  },
  {
   "cell_type": "code",
   "execution_count": 417,
   "metadata": {
    "collapsed": false,
    "scrolled": false
   },
   "outputs": [
    {
     "data": {
      "image/png": "[encoded data removed]",
      "text/plain": [
       "<matplotlib.figure.Figure at 0x10cf051d0>"
      ]
     },
     "metadata": {},
     "output_type": "display_data"
    }
   ],
   "source": [
    "import matplotlib.pyplot as plt\n",
    "%matplotlib inline\n",
    "import numpy as np\n",
    "\n",
    "IQ = [88, 120, 111, 83, 94, 106, 108, 92, 115, 120]\n",
    "GPA =    [3.0, 2.9, 4.0, 3.4, 3.8, 4.0, 2.5, 2.8, 3.0, 4.0]\n",
    "labels = [0.0, 0.0, 1.0, 1.0, 1.0, 1.0, 0.0, 0.0, 0.0, 1.0]\n",
    "colors = [\"red\", \"blue\"]\n",
    "\n",
    "#plt.figure(figsize=(200,400))\n",
    "\n",
    "#red, = plt.plot([], \"r+\", markersize=5)\n",
    "#blue, = plt.plot([], \"b+\", markersize=5)\n",
    "\n",
    "plt.figure(figsize=(20,10))\n",
    "plt.plot(np.unique(IQ), np.poly1d(np.polyfit(IQ, GPA, 1))(np.unique(IQ)))\n",
    "plt.scatter(IQ, GPA, c=labels, cmap=matplotlib.colors.ListedColormap(colors))\n",
    "plt.legend([red, blue], [\"Not Hired\", \"Hired\"])\n",
    "plt.style.use('bmh')\n",
    "plt.axis([60,150,2.0,4.5])\n",
    "plt.xlabel(r\"Size $(m^{2})$\")\n",
    "plt.ylabel(\"Price\")\n",
    "plt.tight_layout()\n",
    "plt.savefig(\"wallpeper.png\")\n",
    "plt.show()"
   ]
  },
  {
   "cell_type": "code",
   "execution_count": 410,
   "metadata": {
    "collapsed": false,
    "scrolled": true
   },
   "outputs": [
    {
     "name": "stdout",
     "output_type": "stream",
     "text": [
      "Error at 5 epochs:\t-1.3333333333333333\n",
      "Error at 10 epochs:\t-0.6666666666666666\n",
      "Error at 15 epochs:\t-0.3333333333333333\n",
      "Error at 20 epochs:\t0.0\n",
      "Error at 25 epochs:\t0.0\n"
     ]
    }
   ],
   "source": [
    "# Initializing the data in Python \n",
    "IQ = [88, 120, 111, 83, 94, 106, 108, 92, 115, 120]\n",
    "GPA = [3.0, 2.9, 4.0, 3.4, 3.8, 4.0, 2.5, 2.8, 3.0, 4.0]\n",
    "labels = [0.0, 1.0, 1.0, 0.0, 1.0, 1.0, 0.0, 0.0, 1.0, 1.0]\n",
    "\n",
    "# Initializing the function coefficients \n",
    "coefficient = np.array([1.0, 1.0, 1.0])\n",
    "\n",
    "# Normalize features\n",
    "def normalize(features):\n",
    "    mean = sum(features)/float(len(features))\n",
    "    minimum = min(features)\n",
    "    maximum = max(features)\n",
    "    return [(feature-mean)/(maximum-minimum) for feature in features]\n",
    "\n",
    "examples = np.ones((3,10))\n",
    "examples[1] = normalize(IQ)\n",
    "examples[2] = normalize(GPA)\n",
    "\n",
    "def test(examples):\n",
    "    error = 0\n",
    "    global coefficient\n",
    "    for example, label in zip(examples.T, labels):\n",
    "        output = coefficient.dot(example.T)\n",
    "        if output > 0:\n",
    "            output = 1\n",
    "        else:\n",
    "            output = 0\n",
    "        error += label - output\n",
    "    return error/len(examples)\n",
    "\n",
    "def train(examples, epochs=25):\n",
    "    global coefficient\n",
    "    for i in range(epochs):\n",
    "        for example, label in zip(examples.T, labels):\n",
    "            output = coefficient.dot(example.T)\n",
    "            if output > 0:\n",
    "                output = 1\n",
    "            else:\n",
    "                output = 0\n",
    "            error = label - output\n",
    "            coefficient += 0.01*error*example\n",
    "        if (i+1)%5 == 0:\n",
    "            print(\"Error at \" + str(i+1) + \" epochs:\\t\" + str(test(examples)))\n",
    "        \n",
    "train(examples)"
   ]
  },
  {
   "cell_type": "code",
   "execution_count": 382,
   "metadata": {
    "collapsed": false
   },
   "outputs": [
    {
     "data": {
      "text/plain": [
       "array([ 0.4       ,  1.11945946,  1.18266667])"
      ]
     },
     "execution_count": 382,
     "metadata": {},
     "output_type": "execute_result"
    }
   ],
   "source": [
    "coefficient"
   ]
  },
  {
   "cell_type": "code",
   "execution_count": 413,
   "metadata": {
    "collapsed": false
   },
   "outputs": [
    {
     "data": {
      "text/plain": [
       "0.35000000000000009"
      ]
     },
     "execution_count": 413,
     "metadata": {},
     "output_type": "execute_result"
    }
   ],
   "source": [
    "np.array([1.0,1.0,1.0]).dot(np.array([1.0,-0.42,-0.23]))"
   ]
  },
  {
   "cell_type": "code",
   "execution_count": 394,
   "metadata": {
    "collapsed": false
   },
   "outputs": [
    {
     "data": {
      "image/png": "[encoded data removed]",
      "text/plain": [
       "<matplotlib.figure.Figure at 0x1114a7978>"
      ]
     },
     "metadata": {},
     "output_type": "display_data"
    }
   ],
   "source": [
    "e = 10\n",
    "grad = (-coefficient[0]/coefficient[2])/-(-coefficient[0]/coefficient[1])\n",
    "new_x = [1, (-coefficient[0]/coefficient[1])+grad] \n",
    "new_y = [(-coefficient[0]/coefficient[2]) + 1*grad , 1]\n",
    "x = normalize(IQ)\n",
    "y = normalize(GPA)\n",
    "\n",
    "Hired = [0, 1, 1, 0, 1, 1, 0, 0, 1, 1]\n",
    "colors = [\"red\", \"blue\"]\n",
    "\n",
    "#plt.figure(figsize=(200,400))\n",
    "plt.scatter(x, y, c=Hired, cmap=matplotlib.colors.ListedColormap(colors))\n",
    "\n",
    "red, = plt.plot([], \"ro\", markersize=5)\n",
    "blue, = plt.plot([], \"bo\", markersize=5)\n",
    "\n",
    "#plt.legend([red, blue], [\"Not Hired\", \"Hired\"])\n",
    "\n",
    "plt.plot(np.unique(new_x), np.poly1d(np.polyfit(new_x, new_y, 1))(np.unique(new_x)))\n",
    "plt.title(str(e)+\" epoch(s)\")\n",
    "plt.style.use('bmh')\n",
    "plt.axis([-0.8,0.6,-0.8,0.6])\n",
    "plt.xlabel(\"IQ\")\n",
    "plt.ylabel(\"GPA\")\n",
    "plt.tight_layout()\n",
    "plt.savefig(\"epoch_\"+str(e)+\".png\")\n",
    "plt.show()"
   ]
  },
  {
   "cell_type": "code",
   "execution_count": null,
   "metadata": {
    "collapsed": true
   },
   "outputs": [],
   "source": []
  }
 ],
 "metadata": {
  "anaconda-cloud": {},
  "kernelspec": {
   "display_name": "Python [Root]",
   "language": "python",
   "name": "Python [Root]"
  },
  "language_info": {
   "codemirror_mode": {
    "name": "ipython",
    "version": 3
   },
   "file_extension": ".py",
   "mimetype": "text/x-python",
   "name": "python",
   "nbconvert_exporter": "python",
   "pygments_lexer": "ipython3",
   "version": "3.5.2"
  }
 },
 "nbformat": 4,
 "nbformat_minor": 0
}
